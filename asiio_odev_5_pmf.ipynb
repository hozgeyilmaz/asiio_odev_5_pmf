{
  "nbformat": 4,
  "nbformat_minor": 0,
  "metadata": {
    "colab": {
      "name": "Untitled6.ipynb",
      "version": "0.3.2",
      "provenance": [],
      "collapsed_sections": [],
      "include_colab_link": true
    },
    "kernelspec": {
      "name": "python3",
      "display_name": "Python 3"
    }
  },
  "cells": [
    {
      "cell_type": "markdown",
      "metadata": {
        "id": "view-in-github",
        "colab_type": "text"
      },
      "source": [
        "<a href=\"https://colab.research.google.com/github/hozgeyilmaz/asiio_odev_5_pmf/blob/master/asiio_odev_5_pmf.ipynb\" target=\"_parent\"><img src=\"https://colab.research.google.com/assets/colab-badge.svg\" alt=\"Open In Colab\"/></a>"
      ]
    },
    {
      "cell_type": "markdown",
      "metadata": {
        "id": "hGdq1v6IjQ6s",
        "colab_type": "text"
      },
      "source": [
        "OLASILIK KÜTLE FONSİYONU (PMF)\n",
        "\n",
        "Bir rastgele değişkenin alabileceği değerler sınırlı sayıda ise, bu değişken kesikli rastgele değişken olarak tanımlanır.\n",
        "\n",
        "Bir kesikli değişkenin olası değerlerden birini alma ihtimalini gösteren fonksiyona olasılık kütle fonksiyonu denir.\n",
        "\n",
        "AYRIK(KESİKLİ) OLASILIK DAĞILIMI = OLASILIK KÜTLE FONKSYONU PMF"
      ]
    },
    {
      "cell_type": "markdown",
      "metadata": {
        "id": "toiHu4ZVoQHw",
        "colab_type": "text"
      },
      "source": [
        "ÖRNEK:\n",
        "2 ile 10 arasından rastgele seçilerek oluşturalacak 40 elemanlı liste için olasılık kütle fonksiyonunu hesaplayınız. "
      ]
    },
    {
      "cell_type": "code",
      "metadata": {
        "id": "FB3TcIGd7cSG",
        "colab_type": "code",
        "colab": {}
      },
      "source": [
        "import numpy as np\n",
        "import pandas as pd\n",
        "import matplotlib.pyplot as plt\n",
        "%matplotlib inline\n",
        "\n",
        "m= np.random.randint(2,10,40)\n",
        "print(m)"
      ],
      "execution_count": 0,
      "outputs": []
    },
    {
      "cell_type": "markdown",
      "metadata": {
        "id": "cFtsHoQ7_VVe",
        "colab_type": "text"
      },
      "source": [
        "(2,10) arasında rastgele oluşturulacak 40 elemanlı bir liste tanımlanmıştır."
      ]
    },
    {
      "cell_type": "code",
      "metadata": {
        "id": "XkmGOfEv74gG",
        "colab_type": "code",
        "colab": {}
      },
      "source": [
        "df = pd.DataFrame(m)\n",
        "df = pd.DataFrame(df[0].value_counts())\n",
        "data = pd.DataFrame(df[0])\n",
        "data.columns = [\"Sayaç\"]\n",
        "data\n"
      ],
      "execution_count": 0,
      "outputs": []
    },
    {
      "cell_type": "markdown",
      "metadata": {
        "id": "2QJwpD2QBsFN",
        "colab_type": "text"
      },
      "source": [
        "Oluşturulan liste DataFrame formatına ayarlanmıştır. Rastgele seçilen (2,10) aralığındaki sayıların frekans değerleri sayaç başlığı altında ilgili sayı değerinin karşısında gösterilmiştir."
      ]
    },
    {
      "cell_type": "code",
      "metadata": {
        "id": "DK6YWQAA8KFf",
        "colab_type": "code",
        "colab": {}
      },
      "source": [
        "boyut = len(m)\n",
        "boyut"
      ],
      "execution_count": 0,
      "outputs": []
    },
    {
      "cell_type": "code",
      "metadata": {
        "id": "l_zKG9Gk9Asx",
        "colab_type": "code",
        "colab": {}
      },
      "source": [
        "data[\"Olasılık\"] = data[\"Sayaç\"]/boyut"
      ],
      "execution_count": 0,
      "outputs": []
    },
    {
      "cell_type": "code",
      "metadata": {
        "id": "RkvX2-1F9KAM",
        "colab_type": "code",
        "colab": {}
      },
      "source": [
        "data"
      ],
      "execution_count": 0,
      "outputs": []
    },
    {
      "cell_type": "markdown",
      "metadata": {
        "id": "TeCfJ7e0AL4p",
        "colab_type": "text"
      },
      "source": [
        "Olasılık Kütle Fonksiyonu (PMF); her bir değer için hesaplanan \"sayaç\" değeri toplam boyuta bölünerek bulunmuştur."
      ]
    },
    {
      "cell_type": "code",
      "metadata": {
        "id": "-pFY-oCx-ARi",
        "colab_type": "code",
        "colab": {}
      },
      "source": [
        "plt.bar(data[\"Sayaç\"], data[\"Olasılık\"])\n"
      ],
      "execution_count": 0,
      "outputs": []
    },
    {
      "cell_type": "markdown",
      "metadata": {
        "id": "DuiIdJAq_-RH",
        "colab_type": "text"
      },
      "source": [
        "Hesaplanan olasılık kütle fonksiyonunun bar grafiği şeklinde gösterimi yapılmaktadır."
      ]
    }
  ]
}